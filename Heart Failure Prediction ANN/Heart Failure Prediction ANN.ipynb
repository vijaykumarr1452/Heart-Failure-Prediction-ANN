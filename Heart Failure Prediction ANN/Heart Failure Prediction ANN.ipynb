{
 "cells": [
  {
   "cell_type": "code",
   "execution_count": 1,
   "id": "a13cb353",
   "metadata": {},
   "outputs": [],
   "source": [
    "# Libraries\n",
    "import numpy as np\n",
    "import pandas as pd\n",
    "import matplotlib.pyplot as plt\n",
    "import seaborn as sns\n",
    "from sklearn import preprocessing\n",
    "from sklearn.preprocessing import StandardScaler\n",
    "from sklearn.model_selection import train_test_split\n",
    "from keras.layers import Dense,Input,BatchNormalization,Dropout,LSTM\n",
    "from keras.models import Sequential,Model\n",
    "from keras import callbacks\n",
    "from sklearn.metrics import precision_score,recall_score,confusion_matrix,classification_report,accuracy_score\n"
   ]
  },
  {
   "cell_type": "code",
   "execution_count": 2,
   "id": "5dec88e6",
   "metadata": {},
   "outputs": [],
   "source": [
    "df=pd.read_csv('C:/Users/user/Desktop/MathsAI/Jupyter/Datasets/heart_failure_clinical_records_dataset.csv')"
   ]
  },
  {
   "cell_type": "code",
   "execution_count": 3,
   "id": "0f4a9d41",
   "metadata": {},
   "outputs": [
    {
     "data": {
      "text/html": [
       "<div>\n",
       "<style scoped>\n",
       "    .dataframe tbody tr th:only-of-type {\n",
       "        vertical-align: middle;\n",
       "    }\n",
       "\n",
       "    .dataframe tbody tr th {\n",
       "        vertical-align: top;\n",
       "    }\n",
       "\n",
       "    .dataframe thead th {\n",
       "        text-align: right;\n",
       "    }\n",
       "</style>\n",
       "<table border=\"1\" class=\"dataframe\">\n",
       "  <thead>\n",
       "    <tr style=\"text-align: right;\">\n",
       "      <th></th>\n",
       "      <th>age</th>\n",
       "      <th>anaemia</th>\n",
       "      <th>creatinine_phosphokinase</th>\n",
       "      <th>diabetes</th>\n",
       "      <th>ejection_fraction</th>\n",
       "      <th>high_blood_pressure</th>\n",
       "      <th>platelets</th>\n",
       "      <th>serum_creatinine</th>\n",
       "      <th>serum_sodium</th>\n",
       "      <th>sex</th>\n",
       "      <th>smoking</th>\n",
       "      <th>time</th>\n",
       "      <th>DEATH_EVENT</th>\n",
       "    </tr>\n",
       "  </thead>\n",
       "  <tbody>\n",
       "    <tr>\n",
       "      <th>0</th>\n",
       "      <td>75.0</td>\n",
       "      <td>0</td>\n",
       "      <td>582</td>\n",
       "      <td>0</td>\n",
       "      <td>20</td>\n",
       "      <td>1</td>\n",
       "      <td>265000.00</td>\n",
       "      <td>1.9</td>\n",
       "      <td>130</td>\n",
       "      <td>1</td>\n",
       "      <td>0</td>\n",
       "      <td>4</td>\n",
       "      <td>1</td>\n",
       "    </tr>\n",
       "    <tr>\n",
       "      <th>1</th>\n",
       "      <td>55.0</td>\n",
       "      <td>0</td>\n",
       "      <td>7861</td>\n",
       "      <td>0</td>\n",
       "      <td>38</td>\n",
       "      <td>0</td>\n",
       "      <td>263358.03</td>\n",
       "      <td>1.1</td>\n",
       "      <td>136</td>\n",
       "      <td>1</td>\n",
       "      <td>0</td>\n",
       "      <td>6</td>\n",
       "      <td>1</td>\n",
       "    </tr>\n",
       "    <tr>\n",
       "      <th>2</th>\n",
       "      <td>65.0</td>\n",
       "      <td>0</td>\n",
       "      <td>146</td>\n",
       "      <td>0</td>\n",
       "      <td>20</td>\n",
       "      <td>0</td>\n",
       "      <td>162000.00</td>\n",
       "      <td>1.3</td>\n",
       "      <td>129</td>\n",
       "      <td>1</td>\n",
       "      <td>1</td>\n",
       "      <td>7</td>\n",
       "      <td>1</td>\n",
       "    </tr>\n",
       "    <tr>\n",
       "      <th>3</th>\n",
       "      <td>50.0</td>\n",
       "      <td>1</td>\n",
       "      <td>111</td>\n",
       "      <td>0</td>\n",
       "      <td>20</td>\n",
       "      <td>0</td>\n",
       "      <td>210000.00</td>\n",
       "      <td>1.9</td>\n",
       "      <td>137</td>\n",
       "      <td>1</td>\n",
       "      <td>0</td>\n",
       "      <td>7</td>\n",
       "      <td>1</td>\n",
       "    </tr>\n",
       "    <tr>\n",
       "      <th>4</th>\n",
       "      <td>65.0</td>\n",
       "      <td>1</td>\n",
       "      <td>160</td>\n",
       "      <td>1</td>\n",
       "      <td>20</td>\n",
       "      <td>0</td>\n",
       "      <td>327000.00</td>\n",
       "      <td>2.7</td>\n",
       "      <td>116</td>\n",
       "      <td>0</td>\n",
       "      <td>0</td>\n",
       "      <td>8</td>\n",
       "      <td>1</td>\n",
       "    </tr>\n",
       "    <tr>\n",
       "      <th>...</th>\n",
       "      <td>...</td>\n",
       "      <td>...</td>\n",
       "      <td>...</td>\n",
       "      <td>...</td>\n",
       "      <td>...</td>\n",
       "      <td>...</td>\n",
       "      <td>...</td>\n",
       "      <td>...</td>\n",
       "      <td>...</td>\n",
       "      <td>...</td>\n",
       "      <td>...</td>\n",
       "      <td>...</td>\n",
       "      <td>...</td>\n",
       "    </tr>\n",
       "    <tr>\n",
       "      <th>294</th>\n",
       "      <td>62.0</td>\n",
       "      <td>0</td>\n",
       "      <td>61</td>\n",
       "      <td>1</td>\n",
       "      <td>38</td>\n",
       "      <td>1</td>\n",
       "      <td>155000.00</td>\n",
       "      <td>1.1</td>\n",
       "      <td>143</td>\n",
       "      <td>1</td>\n",
       "      <td>1</td>\n",
       "      <td>270</td>\n",
       "      <td>0</td>\n",
       "    </tr>\n",
       "    <tr>\n",
       "      <th>295</th>\n",
       "      <td>55.0</td>\n",
       "      <td>0</td>\n",
       "      <td>1820</td>\n",
       "      <td>0</td>\n",
       "      <td>38</td>\n",
       "      <td>0</td>\n",
       "      <td>270000.00</td>\n",
       "      <td>1.2</td>\n",
       "      <td>139</td>\n",
       "      <td>0</td>\n",
       "      <td>0</td>\n",
       "      <td>271</td>\n",
       "      <td>0</td>\n",
       "    </tr>\n",
       "    <tr>\n",
       "      <th>296</th>\n",
       "      <td>45.0</td>\n",
       "      <td>0</td>\n",
       "      <td>2060</td>\n",
       "      <td>1</td>\n",
       "      <td>60</td>\n",
       "      <td>0</td>\n",
       "      <td>742000.00</td>\n",
       "      <td>0.8</td>\n",
       "      <td>138</td>\n",
       "      <td>0</td>\n",
       "      <td>0</td>\n",
       "      <td>278</td>\n",
       "      <td>0</td>\n",
       "    </tr>\n",
       "    <tr>\n",
       "      <th>297</th>\n",
       "      <td>45.0</td>\n",
       "      <td>0</td>\n",
       "      <td>2413</td>\n",
       "      <td>0</td>\n",
       "      <td>38</td>\n",
       "      <td>0</td>\n",
       "      <td>140000.00</td>\n",
       "      <td>1.4</td>\n",
       "      <td>140</td>\n",
       "      <td>1</td>\n",
       "      <td>1</td>\n",
       "      <td>280</td>\n",
       "      <td>0</td>\n",
       "    </tr>\n",
       "    <tr>\n",
       "      <th>298</th>\n",
       "      <td>50.0</td>\n",
       "      <td>0</td>\n",
       "      <td>196</td>\n",
       "      <td>0</td>\n",
       "      <td>45</td>\n",
       "      <td>0</td>\n",
       "      <td>395000.00</td>\n",
       "      <td>1.6</td>\n",
       "      <td>136</td>\n",
       "      <td>1</td>\n",
       "      <td>1</td>\n",
       "      <td>285</td>\n",
       "      <td>0</td>\n",
       "    </tr>\n",
       "  </tbody>\n",
       "</table>\n",
       "<p>299 rows × 13 columns</p>\n",
       "</div>"
      ],
      "text/plain": [
       "      age  anaemia  creatinine_phosphokinase  diabetes  ejection_fraction  \\\n",
       "0    75.0        0                       582         0                 20   \n",
       "1    55.0        0                      7861         0                 38   \n",
       "2    65.0        0                       146         0                 20   \n",
       "3    50.0        1                       111         0                 20   \n",
       "4    65.0        1                       160         1                 20   \n",
       "..    ...      ...                       ...       ...                ...   \n",
       "294  62.0        0                        61         1                 38   \n",
       "295  55.0        0                      1820         0                 38   \n",
       "296  45.0        0                      2060         1                 60   \n",
       "297  45.0        0                      2413         0                 38   \n",
       "298  50.0        0                       196         0                 45   \n",
       "\n",
       "     high_blood_pressure  platelets  serum_creatinine  serum_sodium  sex  \\\n",
       "0                      1  265000.00               1.9           130    1   \n",
       "1                      0  263358.03               1.1           136    1   \n",
       "2                      0  162000.00               1.3           129    1   \n",
       "3                      0  210000.00               1.9           137    1   \n",
       "4                      0  327000.00               2.7           116    0   \n",
       "..                   ...        ...               ...           ...  ...   \n",
       "294                    1  155000.00               1.1           143    1   \n",
       "295                    0  270000.00               1.2           139    0   \n",
       "296                    0  742000.00               0.8           138    0   \n",
       "297                    0  140000.00               1.4           140    1   \n",
       "298                    0  395000.00               1.6           136    1   \n",
       "\n",
       "     smoking  time  DEATH_EVENT  \n",
       "0          0     4            1  \n",
       "1          0     6            1  \n",
       "2          1     7            1  \n",
       "3          0     7            1  \n",
       "4          0     8            1  \n",
       "..       ...   ...          ...  \n",
       "294        1   270            0  \n",
       "295        0   271            0  \n",
       "296        0   278            0  \n",
       "297        1   280            0  \n",
       "298        1   285            0  \n",
       "\n",
       "[299 rows x 13 columns]"
      ]
     },
     "execution_count": 3,
     "metadata": {},
     "output_type": "execute_result"
    }
   ],
   "source": [
    "df"
   ]
  },
  {
   "cell_type": "code",
   "execution_count": 4,
   "id": "059152d9",
   "metadata": {},
   "outputs": [
    {
     "data": {
      "text/html": [
       "<div>\n",
       "<style scoped>\n",
       "    .dataframe tbody tr th:only-of-type {\n",
       "        vertical-align: middle;\n",
       "    }\n",
       "\n",
       "    .dataframe tbody tr th {\n",
       "        vertical-align: top;\n",
       "    }\n",
       "\n",
       "    .dataframe thead th {\n",
       "        text-align: right;\n",
       "    }\n",
       "</style>\n",
       "<table border=\"1\" class=\"dataframe\">\n",
       "  <thead>\n",
       "    <tr style=\"text-align: right;\">\n",
       "      <th></th>\n",
       "      <th>age</th>\n",
       "      <th>anaemia</th>\n",
       "      <th>creatinine_phosphokinase</th>\n",
       "      <th>diabetes</th>\n",
       "      <th>ejection_fraction</th>\n",
       "      <th>high_blood_pressure</th>\n",
       "      <th>platelets</th>\n",
       "      <th>serum_creatinine</th>\n",
       "      <th>serum_sodium</th>\n",
       "      <th>sex</th>\n",
       "      <th>smoking</th>\n",
       "      <th>time</th>\n",
       "      <th>DEATH_EVENT</th>\n",
       "    </tr>\n",
       "  </thead>\n",
       "  <tbody>\n",
       "    <tr>\n",
       "      <th>0</th>\n",
       "      <td>75.0</td>\n",
       "      <td>0</td>\n",
       "      <td>582</td>\n",
       "      <td>0</td>\n",
       "      <td>20</td>\n",
       "      <td>1</td>\n",
       "      <td>265000.00</td>\n",
       "      <td>1.9</td>\n",
       "      <td>130</td>\n",
       "      <td>1</td>\n",
       "      <td>0</td>\n",
       "      <td>4</td>\n",
       "      <td>1</td>\n",
       "    </tr>\n",
       "    <tr>\n",
       "      <th>1</th>\n",
       "      <td>55.0</td>\n",
       "      <td>0</td>\n",
       "      <td>7861</td>\n",
       "      <td>0</td>\n",
       "      <td>38</td>\n",
       "      <td>0</td>\n",
       "      <td>263358.03</td>\n",
       "      <td>1.1</td>\n",
       "      <td>136</td>\n",
       "      <td>1</td>\n",
       "      <td>0</td>\n",
       "      <td>6</td>\n",
       "      <td>1</td>\n",
       "    </tr>\n",
       "    <tr>\n",
       "      <th>2</th>\n",
       "      <td>65.0</td>\n",
       "      <td>0</td>\n",
       "      <td>146</td>\n",
       "      <td>0</td>\n",
       "      <td>20</td>\n",
       "      <td>0</td>\n",
       "      <td>162000.00</td>\n",
       "      <td>1.3</td>\n",
       "      <td>129</td>\n",
       "      <td>1</td>\n",
       "      <td>1</td>\n",
       "      <td>7</td>\n",
       "      <td>1</td>\n",
       "    </tr>\n",
       "    <tr>\n",
       "      <th>3</th>\n",
       "      <td>50.0</td>\n",
       "      <td>1</td>\n",
       "      <td>111</td>\n",
       "      <td>0</td>\n",
       "      <td>20</td>\n",
       "      <td>0</td>\n",
       "      <td>210000.00</td>\n",
       "      <td>1.9</td>\n",
       "      <td>137</td>\n",
       "      <td>1</td>\n",
       "      <td>0</td>\n",
       "      <td>7</td>\n",
       "      <td>1</td>\n",
       "    </tr>\n",
       "    <tr>\n",
       "      <th>4</th>\n",
       "      <td>65.0</td>\n",
       "      <td>1</td>\n",
       "      <td>160</td>\n",
       "      <td>1</td>\n",
       "      <td>20</td>\n",
       "      <td>0</td>\n",
       "      <td>327000.00</td>\n",
       "      <td>2.7</td>\n",
       "      <td>116</td>\n",
       "      <td>0</td>\n",
       "      <td>0</td>\n",
       "      <td>8</td>\n",
       "      <td>1</td>\n",
       "    </tr>\n",
       "  </tbody>\n",
       "</table>\n",
       "</div>"
      ],
      "text/plain": [
       "    age  anaemia  creatinine_phosphokinase  diabetes  ejection_fraction  \\\n",
       "0  75.0        0                       582         0                 20   \n",
       "1  55.0        0                      7861         0                 38   \n",
       "2  65.0        0                       146         0                 20   \n",
       "3  50.0        1                       111         0                 20   \n",
       "4  65.0        1                       160         1                 20   \n",
       "\n",
       "   high_blood_pressure  platelets  serum_creatinine  serum_sodium  sex  \\\n",
       "0                    1  265000.00               1.9           130    1   \n",
       "1                    0  263358.03               1.1           136    1   \n",
       "2                    0  162000.00               1.3           129    1   \n",
       "3                    0  210000.00               1.9           137    1   \n",
       "4                    0  327000.00               2.7           116    0   \n",
       "\n",
       "   smoking  time  DEATH_EVENT  \n",
       "0        0     4            1  \n",
       "1        0     6            1  \n",
       "2        1     7            1  \n",
       "3        0     7            1  \n",
       "4        0     8            1  "
      ]
     },
     "execution_count": 4,
     "metadata": {},
     "output_type": "execute_result"
    }
   ],
   "source": [
    "df.head()"
   ]
  },
  {
   "cell_type": "code",
   "execution_count": 5,
   "id": "a779d690",
   "metadata": {},
   "outputs": [
    {
     "data": {
      "text/plain": [
       "age                         0\n",
       "anaemia                     0\n",
       "creatinine_phosphokinase    0\n",
       "diabetes                    0\n",
       "ejection_fraction           0\n",
       "high_blood_pressure         0\n",
       "platelets                   0\n",
       "serum_creatinine            0\n",
       "serum_sodium                0\n",
       "sex                         0\n",
       "smoking                     0\n",
       "time                        0\n",
       "DEATH_EVENT                 0\n",
       "dtype: int64"
      ]
     },
     "execution_count": 5,
     "metadata": {},
     "output_type": "execute_result"
    }
   ],
   "source": [
    "df.isna().sum()"
   ]
  },
  {
   "cell_type": "code",
   "execution_count": 6,
   "id": "54b5ac0c",
   "metadata": {},
   "outputs": [
    {
     "data": {
      "text/plain": [
       "<AxesSubplot:>"
      ]
     },
     "execution_count": 6,
     "metadata": {},
     "output_type": "execute_result"
    },
    {
     "data": {
      "image/png": "[encoded data removed]",
      "text/plain": [
       "<Figure size 640x480 with 2 Axes>"
      ]
     },
     "metadata": {},
     "output_type": "display_data"
    }
   ],
   "source": [
    "sns.heatmap(df.isna(),cmap='Greys')"
   ]
  },
  {
   "cell_type": "code",
   "execution_count": 7,
   "id": "182a1d09",
   "metadata": {},
   "outputs": [
    {
     "data": {
      "text/plain": [
       "(299, 13)"
      ]
     },
     "execution_count": 7,
     "metadata": {},
     "output_type": "execute_result"
    }
   ],
   "source": [
    "df.shape"
   ]
  },
  {
   "cell_type": "code",
   "execution_count": 8,
   "id": "d3efabcf",
   "metadata": {},
   "outputs": [],
   "source": [
    "# Assigning X and Y values\n",
    "# X--- Features\n",
    "# Y--- DEATH_EVENT\n",
    "\n",
    "x=df.drop('DEATH_EVENT',axis=1)\n",
    "y=df['DEATH_EVENT']\n"
   ]
  },
  {
   "cell_type": "code",
   "execution_count": 9,
   "id": "d39a50e4",
   "metadata": {},
   "outputs": [
    {
     "data": {
      "text/plain": [
       "0      1\n",
       "1      1\n",
       "2      1\n",
       "3      1\n",
       "4      1\n",
       "      ..\n",
       "294    0\n",
       "295    0\n",
       "296    0\n",
       "297    0\n",
       "298    0\n",
       "Name: DEATH_EVENT, Length: 299, dtype: int64"
      ]
     },
     "execution_count": 9,
     "metadata": {},
     "output_type": "execute_result"
    }
   ],
   "source": [
    "y"
   ]
  },
  {
   "cell_type": "code",
   "execution_count": 10,
   "id": "cb254c19",
   "metadata": {},
   "outputs": [],
   "source": [
    "# Preprocessing Data\n",
    "\n",
    "col_names=list(x.columns)\n",
    "s_scaler=preprocessing.StandardScaler()\n",
    "x=s_scaler.fit_transform(x)\n"
   ]
  },
  {
   "cell_type": "code",
   "execution_count": 11,
   "id": "f495271a",
   "metadata": {},
   "outputs": [],
   "source": [
    "# Split data\n",
    "x_train,x_test,y_train,y_test=train_test_split(x,y,test_size=0.2,random_state=32)"
   ]
  },
  {
   "cell_type": "code",
   "execution_count": 12,
   "id": "a62737c4",
   "metadata": {},
   "outputs": [],
   "source": [
    "# # Pipeline\n",
    "\n",
    "# pipeline = make_pipeline(StandardScaler(),\n",
    "# RandomForestClassifier(n_estimators=10, max_features=5, max_depth=2, random_state=1))\n",
    "\n",
    "# # Fit the Pipeline estimator\n",
    "\n",
    "# pipeline.fit(X_train, y_train)"
   ]
  },
  {
   "cell_type": "code",
   "execution_count": 13,
   "id": "6fc854d1",
   "metadata": {},
   "outputs": [
    {
     "data": {
      "text/plain": [
       "(239, 12)"
      ]
     },
     "execution_count": 13,
     "metadata": {},
     "output_type": "execute_result"
    }
   ],
   "source": [
    "x_train.shape"
   ]
  },
  {
   "cell_type": "code",
   "execution_count": 14,
   "id": "040e1ecb",
   "metadata": {},
   "outputs": [
    {
     "data": {
      "text/plain": [
       "(239,)"
      ]
     },
     "execution_count": 14,
     "metadata": {},
     "output_type": "execute_result"
    }
   ],
   "source": [
    "y_train.shape"
   ]
  },
  {
   "cell_type": "code",
   "execution_count": 15,
   "id": "c2dce72f",
   "metadata": {},
   "outputs": [],
   "source": [
    "# Model\n",
    "\n",
    "model=Sequential()\n",
    "\n",
    "model.add(Dense(4,activation='relu',kernel_initializer='uniform',input_dim=12))\n",
    "model.add(Dense(16,activation='relu',kernel_initializer='uniform'))\n",
    "model.add(Dropout(0.2))\n",
    "model.add(Dense(32,activation='relu',kernel_initializer='uniform'))\n",
    "model.add(Dropout(0.4))\n",
    "model.add(Dense(8,activation='relu',kernel_initializer='uniform'))\n",
    "model.add(Dense(1,activation='sigmoid',kernel_initializer='uniform'))\n",
    "\n",
    "# Model Compile\n",
    "model.compile(optimizer='adam',loss='binary_crossentropy',metrics=['acc'])\n",
    "    \n"
   ]
  },
  {
   "cell_type": "code",
   "execution_count": 16,
   "id": "29383afc",
   "metadata": {},
   "outputs": [
    {
     "name": "stdout",
     "output_type": "stream",
     "text": [
      "Epoch 1/70\n",
      "12/12 [==============================] - 2s 39ms/step - loss: 0.6922 - acc: 0.6485 - val_loss: 0.6909 - val_acc: 0.6833\n",
      "Epoch 2/70\n",
      "12/12 [==============================] - 0s 7ms/step - loss: 0.6899 - acc: 0.6778 - val_loss: 0.6887 - val_acc: 0.6833\n",
      "Epoch 3/70\n",
      "12/12 [==============================] - 0s 6ms/step - loss: 0.6877 - acc: 0.6778 - val_loss: 0.6861 - val_acc: 0.6833\n",
      "Epoch 4/70\n",
      "12/12 [==============================] - 0s 6ms/step - loss: 0.6850 - acc: 0.6778 - val_loss: 0.6832 - val_acc: 0.6833\n",
      "Epoch 5/70\n",
      "12/12 [==============================] - 0s 6ms/step - loss: 0.6820 - acc: 0.6778 - val_loss: 0.6795 - val_acc: 0.6833\n",
      "Epoch 6/70\n",
      "12/12 [==============================] - 0s 7ms/step - loss: 0.6781 - acc: 0.6778 - val_loss: 0.6742 - val_acc: 0.6833\n",
      "Epoch 7/70\n",
      "12/12 [==============================] - 0s 6ms/step - loss: 0.6707 - acc: 0.6778 - val_loss: 0.6667 - val_acc: 0.6833\n",
      "Epoch 8/70\n",
      "12/12 [==============================] - 0s 7ms/step - loss: 0.6621 - acc: 0.6778 - val_loss: 0.6544 - val_acc: 0.6833\n",
      "Epoch 9/70\n",
      "12/12 [==============================] - 0s 6ms/step - loss: 0.6484 - acc: 0.6778 - val_loss: 0.6354 - val_acc: 0.6833\n",
      "Epoch 10/70\n",
      "12/12 [==============================] - 0s 7ms/step - loss: 0.6250 - acc: 0.6778 - val_loss: 0.6077 - val_acc: 0.6833\n",
      "Epoch 11/70\n",
      "12/12 [==============================] - 0s 6ms/step - loss: 0.5889 - acc: 0.6778 - val_loss: 0.5724 - val_acc: 0.6833\n",
      "Epoch 12/70\n",
      "12/12 [==============================] - 0s 7ms/step - loss: 0.5513 - acc: 0.6778 - val_loss: 0.5371 - val_acc: 0.6833\n",
      "Epoch 13/70\n",
      "12/12 [==============================] - 0s 7ms/step - loss: 0.5198 - acc: 0.6778 - val_loss: 0.5092 - val_acc: 0.6833\n",
      "Epoch 14/70\n",
      "12/12 [==============================] - 0s 9ms/step - loss: 0.4860 - acc: 0.6778 - val_loss: 0.4890 - val_acc: 0.6833\n",
      "Epoch 15/70\n",
      "12/12 [==============================] - 0s 6ms/step - loss: 0.4643 - acc: 0.6778 - val_loss: 0.4798 - val_acc: 0.6833\n",
      "Epoch 16/70\n",
      "12/12 [==============================] - 0s 9ms/step - loss: 0.4404 - acc: 0.6778 - val_loss: 0.4757 - val_acc: 0.6833\n",
      "Epoch 17/70\n",
      "12/12 [==============================] - 0s 7ms/step - loss: 0.4461 - acc: 0.6778 - val_loss: 0.4743 - val_acc: 0.6833\n",
      "Epoch 18/70\n",
      "12/12 [==============================] - 0s 7ms/step - loss: 0.4325 - acc: 0.6778 - val_loss: 0.4695 - val_acc: 0.6833\n",
      "Epoch 19/70\n",
      "12/12 [==============================] - 0s 7ms/step - loss: 0.4352 - acc: 0.6987 - val_loss: 0.4701 - val_acc: 0.6833\n",
      "Epoch 20/70\n",
      "12/12 [==============================] - 0s 7ms/step - loss: 0.4195 - acc: 0.8243 - val_loss: 0.4665 - val_acc: 0.8167\n",
      "Epoch 21/70\n",
      "12/12 [==============================] - 0s 7ms/step - loss: 0.4174 - acc: 0.8326 - val_loss: 0.4684 - val_acc: 0.8000\n",
      "Epoch 22/70\n",
      "12/12 [==============================] - 0s 7ms/step - loss: 0.4343 - acc: 0.8159 - val_loss: 0.4680 - val_acc: 0.8167\n",
      "Epoch 23/70\n",
      "12/12 [==============================] - 0s 8ms/step - loss: 0.4322 - acc: 0.8326 - val_loss: 0.4644 - val_acc: 0.8167\n",
      "Epoch 24/70\n",
      "12/12 [==============================] - 0s 7ms/step - loss: 0.4043 - acc: 0.8410 - val_loss: 0.4636 - val_acc: 0.8167\n",
      "Epoch 25/70\n",
      "12/12 [==============================] - 0s 8ms/step - loss: 0.4038 - acc: 0.8410 - val_loss: 0.4623 - val_acc: 0.8167\n",
      "Epoch 26/70\n",
      "12/12 [==============================] - 0s 6ms/step - loss: 0.4031 - acc: 0.8201 - val_loss: 0.4624 - val_acc: 0.8167\n",
      "Epoch 27/70\n",
      "12/12 [==============================] - 0s 6ms/step - loss: 0.3876 - acc: 0.8661 - val_loss: 0.4615 - val_acc: 0.8167\n",
      "Epoch 28/70\n",
      "12/12 [==============================] - 0s 6ms/step - loss: 0.4134 - acc: 0.8494 - val_loss: 0.4604 - val_acc: 0.8167\n",
      "Epoch 29/70\n",
      "12/12 [==============================] - 0s 7ms/step - loss: 0.3987 - acc: 0.8410 - val_loss: 0.4586 - val_acc: 0.8167\n",
      "Epoch 30/70\n",
      "12/12 [==============================] - 0s 6ms/step - loss: 0.3858 - acc: 0.8410 - val_loss: 0.4581 - val_acc: 0.8167\n",
      "Epoch 31/70\n",
      "12/12 [==============================] - 0s 6ms/step - loss: 0.3800 - acc: 0.8619 - val_loss: 0.4575 - val_acc: 0.8167\n",
      "Epoch 32/70\n",
      "12/12 [==============================] - 0s 6ms/step - loss: 0.3873 - acc: 0.8536 - val_loss: 0.4593 - val_acc: 0.8000\n",
      "Epoch 33/70\n",
      "12/12 [==============================] - 0s 7ms/step - loss: 0.3711 - acc: 0.8577 - val_loss: 0.4613 - val_acc: 0.8000\n",
      "Epoch 34/70\n",
      "12/12 [==============================] - 0s 8ms/step - loss: 0.3695 - acc: 0.8452 - val_loss: 0.4623 - val_acc: 0.8167\n",
      "Epoch 35/70\n",
      "12/12 [==============================] - 0s 7ms/step - loss: 0.3530 - acc: 0.8494 - val_loss: 0.4647 - val_acc: 0.8000\n",
      "Epoch 36/70\n",
      "12/12 [==============================] - 0s 10ms/step - loss: 0.3660 - acc: 0.8536 - val_loss: 0.4602 - val_acc: 0.8000\n",
      "Epoch 37/70\n",
      "12/12 [==============================] - 0s 8ms/step - loss: 0.3641 - acc: 0.8536 - val_loss: 0.4591 - val_acc: 0.8000\n",
      "Epoch 38/70\n",
      "12/12 [==============================] - 0s 8ms/step - loss: 0.3801 - acc: 0.8410 - val_loss: 0.4610 - val_acc: 0.7833\n",
      "Epoch 39/70\n",
      "12/12 [==============================] - 0s 11ms/step - loss: 0.3740 - acc: 0.8577 - val_loss: 0.4597 - val_acc: 0.8000\n",
      "Epoch 40/70\n",
      "12/12 [==============================] - 0s 8ms/step - loss: 0.3865 - acc: 0.8326 - val_loss: 0.4582 - val_acc: 0.8000\n",
      "Epoch 41/70\n",
      "12/12 [==============================] - 0s 9ms/step - loss: 0.3863 - acc: 0.8619 - val_loss: 0.4583 - val_acc: 0.8000\n",
      "Epoch 42/70\n",
      "12/12 [==============================] - 0s 8ms/step - loss: 0.3429 - acc: 0.8536 - val_loss: 0.4587 - val_acc: 0.8000\n",
      "Epoch 43/70\n",
      "12/12 [==============================] - 0s 8ms/step - loss: 0.3792 - acc: 0.8452 - val_loss: 0.4558 - val_acc: 0.8000\n",
      "Epoch 44/70\n",
      "12/12 [==============================] - 0s 8ms/step - loss: 0.3625 - acc: 0.8661 - val_loss: 0.4566 - val_acc: 0.8000\n",
      "Epoch 45/70\n",
      "12/12 [==============================] - 0s 8ms/step - loss: 0.3683 - acc: 0.8619 - val_loss: 0.4544 - val_acc: 0.8000\n",
      "Epoch 46/70\n",
      "12/12 [==============================] - 0s 7ms/step - loss: 0.3600 - acc: 0.8452 - val_loss: 0.4549 - val_acc: 0.8000\n",
      "Epoch 47/70\n",
      "12/12 [==============================] - 0s 7ms/step - loss: 0.3597 - acc: 0.8619 - val_loss: 0.4578 - val_acc: 0.8000\n",
      "Epoch 48/70\n",
      "12/12 [==============================] - 0s 8ms/step - loss: 0.3485 - acc: 0.8619 - val_loss: 0.4627 - val_acc: 0.8000\n",
      "Epoch 49/70\n",
      "12/12 [==============================] - 0s 7ms/step - loss: 0.3568 - acc: 0.8536 - val_loss: 0.4624 - val_acc: 0.8000\n",
      "Epoch 50/70\n",
      "12/12 [==============================] - 0s 12ms/step - loss: 0.3624 - acc: 0.8494 - val_loss: 0.4648 - val_acc: 0.7833\n",
      "Epoch 51/70\n",
      "12/12 [==============================] - 0s 17ms/step - loss: 0.3560 - acc: 0.8494 - val_loss: 0.4663 - val_acc: 0.8167\n",
      "Epoch 52/70\n",
      "12/12 [==============================] - 0s 8ms/step - loss: 0.3546 - acc: 0.8452 - val_loss: 0.4671 - val_acc: 0.7833\n",
      "Epoch 53/70\n",
      "12/12 [==============================] - 0s 13ms/step - loss: 0.3566 - acc: 0.8494 - val_loss: 0.4681 - val_acc: 0.7833\n",
      "Epoch 54/70\n",
      "12/12 [==============================] - 0s 12ms/step - loss: 0.3622 - acc: 0.8577 - val_loss: 0.4687 - val_acc: 0.7833\n",
      "Epoch 55/70\n",
      "12/12 [==============================] - 0s 9ms/step - loss: 0.3384 - acc: 0.8577 - val_loss: 0.4718 - val_acc: 0.7833\n",
      "Epoch 56/70\n",
      "12/12 [==============================] - 0s 7ms/step - loss: 0.3459 - acc: 0.8577 - val_loss: 0.4702 - val_acc: 0.7833\n",
      "Epoch 57/70\n",
      "12/12 [==============================] - 0s 7ms/step - loss: 0.3588 - acc: 0.8619 - val_loss: 0.4745 - val_acc: 0.7833\n",
      "Epoch 58/70\n",
      "12/12 [==============================] - 0s 8ms/step - loss: 0.3381 - acc: 0.8745 - val_loss: 0.4752 - val_acc: 0.7833\n",
      "Epoch 59/70\n",
      "12/12 [==============================] - 0s 10ms/step - loss: 0.3381 - acc: 0.8661 - val_loss: 0.4777 - val_acc: 0.7833\n",
      "Epoch 60/70\n",
      "12/12 [==============================] - 0s 9ms/step - loss: 0.3477 - acc: 0.8619 - val_loss: 0.4789 - val_acc: 0.7833\n",
      "Epoch 61/70\n",
      "12/12 [==============================] - 0s 8ms/step - loss: 0.3616 - acc: 0.8494 - val_loss: 0.4775 - val_acc: 0.7833\n",
      "Epoch 62/70\n",
      "12/12 [==============================] - 0s 9ms/step - loss: 0.3409 - acc: 0.8536 - val_loss: 0.4742 - val_acc: 0.7833\n",
      "Epoch 63/70\n"
     ]
    },
    {
     "name": "stdout",
     "output_type": "stream",
     "text": [
      "12/12 [==============================] - 0s 8ms/step - loss: 0.3587 - acc: 0.8494 - val_loss: 0.4737 - val_acc: 0.7833\n",
      "Epoch 64/70\n",
      "12/12 [==============================] - 0s 8ms/step - loss: 0.3376 - acc: 0.8703 - val_loss: 0.4728 - val_acc: 0.7833\n",
      "Epoch 65/70\n",
      "12/12 [==============================] - 0s 9ms/step - loss: 0.3432 - acc: 0.8577 - val_loss: 0.4714 - val_acc: 0.7833\n",
      "Epoch 66/70\n",
      "12/12 [==============================] - 0s 10ms/step - loss: 0.3518 - acc: 0.8494 - val_loss: 0.4736 - val_acc: 0.7833\n",
      "Epoch 67/70\n",
      "12/12 [==============================] - 0s 8ms/step - loss: 0.3486 - acc: 0.8661 - val_loss: 0.4728 - val_acc: 0.7833\n",
      "Epoch 68/70\n",
      "12/12 [==============================] - 0s 8ms/step - loss: 0.3785 - acc: 0.8536 - val_loss: 0.4728 - val_acc: 0.7833\n",
      "Epoch 69/70\n",
      "12/12 [==============================] - 0s 8ms/step - loss: 0.3600 - acc: 0.8452 - val_loss: 0.4758 - val_acc: 0.7833\n",
      "Epoch 70/70\n",
      "12/12 [==============================] - 0s 8ms/step - loss: 0.3385 - acc: 0.8577 - val_loss: 0.4755 - val_acc: 0.7833\n"
     ]
    }
   ],
   "source": [
    "# Model Training\n",
    "hist=model.fit(x_train,y_train,validation_data=(x_test,y_test),batch_size=20,epochs=70)"
   ]
  },
  {
   "cell_type": "code",
   "execution_count": 17,
   "id": "ce367fcd",
   "metadata": {},
   "outputs": [],
   "source": [
    "# from sklearn.ensemble import RandomForestClassifier\n",
    "# classifier1=RandomForestClassifier()\n",
    "# classifier1.fit(x_train,y_train)\n",
    "\n"
   ]
  },
  {
   "cell_type": "code",
   "execution_count": 18,
   "id": "b4e0f1ba",
   "metadata": {},
   "outputs": [],
   "source": [
    "# y_pred=classifier1.predict(x_test)"
   ]
  },
  {
   "cell_type": "code",
   "execution_count": 19,
   "id": "a42dc2ca",
   "metadata": {},
   "outputs": [
    {
     "name": "stdout",
     "output_type": "stream",
     "text": [
      "2/2 [==============================] - 0s 8ms/step - loss: 0.4755 - acc: 0.7833\n"
     ]
    }
   ],
   "source": [
    "# Model Evaluaton\n",
    "loss,acc=model.evaluate(x_test,y_test)"
   ]
  },
  {
   "cell_type": "code",
   "execution_count": 20,
   "id": "c3ddaaab",
   "metadata": {},
   "outputs": [],
   "source": [
    "# Acuuracy\n",
    "# Val_acc=80,acc=85"
   ]
  },
  {
   "cell_type": "code",
   "execution_count": 22,
   "id": "0dab3533",
   "metadata": {},
   "outputs": [
    {
     "name": "stdout",
     "output_type": "stream",
     "text": [
      "2/2 [==============================] - 0s 4ms/step\n"
     ]
    }
   ],
   "source": [
    "# Model Predict\n",
    "y_pred=model.predict(x_test)"
   ]
  },
  {
   "cell_type": "code",
   "execution_count": 23,
   "id": "f249c41e",
   "metadata": {},
   "outputs": [
    {
     "data": {
      "text/plain": [
       "array([-1.33339153, -0.87110478, -0.2992157 ,  1.1798305 , -0.26099055,\n",
       "       -0.73568819,  6.00817985, -0.09090002,  1.22008382,  0.73568819,\n",
       "        1.4541607 , -0.54541197])"
      ]
     },
     "execution_count": 23,
     "metadata": {},
     "output_type": "execute_result"
    }
   ],
   "source": [
    "x_test[0]"
   ]
  },
  {
   "cell_type": "code",
   "execution_count": 24,
   "id": "6e7250af",
   "metadata": {},
   "outputs": [
    {
     "name": "stdout",
     "output_type": "stream",
     "text": [
      "10/10 [==============================] - 0s 3ms/step\n",
      "0\n"
     ]
    }
   ],
   "source": [
    "a=model.predict(x)\n",
    "print(np.argmax(a[5]))\n"
   ]
  },
  {
   "cell_type": "code",
   "execution_count": 25,
   "id": "68da59d1",
   "metadata": {},
   "outputs": [],
   "source": [
    "# # Confusion matrix\n",
    "# # plt.subplots(figsize=(12,8))\n",
    "# matrix=confusion_matrix(y_test,y_pred)\n",
    "# # sns.heatmap(matrix,annot=True,cmap='Reds')\n",
    "# matrix"
   ]
  },
  {
   "cell_type": "markdown",
   "id": "ec680a4d",
   "metadata": {},
   "source": [
    "# Functional Model"
   ]
  },
  {
   "cell_type": "code",
   "execution_count": 26,
   "id": "b55c5f99",
   "metadata": {},
   "outputs": [],
   "source": [
    "# Functional Model\n",
    "def ann_model():\n",
    "    vis=Input(shape=(12,))\n",
    "    hid1=Dense(8,activation='relu')(vis)\n",
    "    hid2=Dense(16,activation='relu')(hid1)\n",
    "    hid3=Dense(32,activation='relu')(hid2)\n",
    "    output=Dense(1,activation='sigmoid')(hid3)\n",
    "    model=Model(inputs=vis,outputs=output)\n",
    "    return model"
   ]
  },
  {
   "cell_type": "code",
   "execution_count": 27,
   "id": "f1347f6d",
   "metadata": {},
   "outputs": [],
   "source": [
    "model=ann_model()"
   ]
  },
  {
   "cell_type": "code",
   "execution_count": 28,
   "id": "8722c74f",
   "metadata": {},
   "outputs": [],
   "source": [
    "model.compile(optimizer='adam',loss='binary_crossentropy',metrics=['acc'])"
   ]
  },
  {
   "cell_type": "code",
   "execution_count": 29,
   "id": "129994b0",
   "metadata": {},
   "outputs": [
    {
     "name": "stdout",
     "output_type": "stream",
     "text": [
      "Epoch 1/70\n",
      "12/12 [==============================] - 2s 37ms/step - loss: 0.6607 - acc: 0.6736 - val_loss: 0.6625 - val_acc: 0.6833\n",
      "Epoch 2/70\n",
      "12/12 [==============================] - 0s 10ms/step - loss: 0.6362 - acc: 0.6778 - val_loss: 0.6471 - val_acc: 0.6833\n",
      "Epoch 3/70\n",
      "12/12 [==============================] - 0s 11ms/step - loss: 0.6174 - acc: 0.6778 - val_loss: 0.6364 - val_acc: 0.6833\n",
      "Epoch 4/70\n",
      "12/12 [==============================] - 0s 9ms/step - loss: 0.6016 - acc: 0.6778 - val_loss: 0.6270 - val_acc: 0.6833\n",
      "Epoch 5/70\n",
      "12/12 [==============================] - 0s 11ms/step - loss: 0.5885 - acc: 0.6778 - val_loss: 0.6159 - val_acc: 0.6833\n",
      "Epoch 6/70\n",
      "12/12 [==============================] - 0s 9ms/step - loss: 0.5762 - acc: 0.6778 - val_loss: 0.6058 - val_acc: 0.7000\n",
      "Epoch 7/70\n",
      "12/12 [==============================] - 0s 8ms/step - loss: 0.5603 - acc: 0.6778 - val_loss: 0.5945 - val_acc: 0.7000\n",
      "Epoch 8/70\n",
      "12/12 [==============================] - 0s 9ms/step - loss: 0.5467 - acc: 0.6946 - val_loss: 0.5855 - val_acc: 0.7167\n",
      "Epoch 9/70\n",
      "12/12 [==============================] - 0s 9ms/step - loss: 0.5323 - acc: 0.6987 - val_loss: 0.5776 - val_acc: 0.6833\n",
      "Epoch 10/70\n",
      "12/12 [==============================] - 0s 9ms/step - loss: 0.5189 - acc: 0.7280 - val_loss: 0.5702 - val_acc: 0.7000\n",
      "Epoch 11/70\n",
      "12/12 [==============================] - 0s 10ms/step - loss: 0.5046 - acc: 0.7490 - val_loss: 0.5620 - val_acc: 0.7000\n",
      "Epoch 12/70\n",
      "12/12 [==============================] - 0s 8ms/step - loss: 0.4907 - acc: 0.7699 - val_loss: 0.5537 - val_acc: 0.7167\n",
      "Epoch 13/70\n",
      "12/12 [==============================] - 0s 8ms/step - loss: 0.4793 - acc: 0.7824 - val_loss: 0.5453 - val_acc: 0.7167\n",
      "Epoch 14/70\n",
      "12/12 [==============================] - 0s 9ms/step - loss: 0.4652 - acc: 0.7908 - val_loss: 0.5394 - val_acc: 0.7167\n",
      "Epoch 15/70\n",
      "12/12 [==============================] - 0s 8ms/step - loss: 0.4558 - acc: 0.7992 - val_loss: 0.5309 - val_acc: 0.7667\n",
      "Epoch 16/70\n",
      "12/12 [==============================] - 0s 9ms/step - loss: 0.4463 - acc: 0.8159 - val_loss: 0.5219 - val_acc: 0.7667\n",
      "Epoch 17/70\n",
      "12/12 [==============================] - 0s 8ms/step - loss: 0.4359 - acc: 0.8117 - val_loss: 0.5166 - val_acc: 0.7500\n",
      "Epoch 18/70\n",
      "12/12 [==============================] - 0s 9ms/step - loss: 0.4275 - acc: 0.8033 - val_loss: 0.5092 - val_acc: 0.7833\n",
      "Epoch 19/70\n",
      "12/12 [==============================] - 0s 9ms/step - loss: 0.4203 - acc: 0.8117 - val_loss: 0.5015 - val_acc: 0.8000\n",
      "Epoch 20/70\n",
      "12/12 [==============================] - 0s 9ms/step - loss: 0.4129 - acc: 0.8243 - val_loss: 0.4963 - val_acc: 0.7667\n",
      "Epoch 21/70\n",
      "12/12 [==============================] - 0s 8ms/step - loss: 0.4081 - acc: 0.8326 - val_loss: 0.4933 - val_acc: 0.8167\n",
      "Epoch 22/70\n",
      "12/12 [==============================] - 0s 8ms/step - loss: 0.4009 - acc: 0.8410 - val_loss: 0.4882 - val_acc: 0.7833\n",
      "Epoch 23/70\n",
      "12/12 [==============================] - 0s 8ms/step - loss: 0.3944 - acc: 0.8368 - val_loss: 0.4854 - val_acc: 0.7833\n",
      "Epoch 24/70\n",
      "12/12 [==============================] - 0s 9ms/step - loss: 0.3890 - acc: 0.8410 - val_loss: 0.4809 - val_acc: 0.8000\n",
      "Epoch 25/70\n",
      "12/12 [==============================] - 0s 9ms/step - loss: 0.3850 - acc: 0.8410 - val_loss: 0.4772 - val_acc: 0.7833\n",
      "Epoch 26/70\n",
      "12/12 [==============================] - 0s 9ms/step - loss: 0.3784 - acc: 0.8494 - val_loss: 0.4739 - val_acc: 0.8000\n",
      "Epoch 27/70\n",
      "12/12 [==============================] - 0s 9ms/step - loss: 0.3751 - acc: 0.8536 - val_loss: 0.4731 - val_acc: 0.8000\n",
      "Epoch 28/70\n",
      "12/12 [==============================] - 0s 8ms/step - loss: 0.3717 - acc: 0.8536 - val_loss: 0.4704 - val_acc: 0.8000\n",
      "Epoch 29/70\n",
      "12/12 [==============================] - 0s 8ms/step - loss: 0.3676 - acc: 0.8536 - val_loss: 0.4677 - val_acc: 0.8000\n",
      "Epoch 30/70\n",
      "12/12 [==============================] - 0s 7ms/step - loss: 0.3651 - acc: 0.8577 - val_loss: 0.4658 - val_acc: 0.8000\n",
      "Epoch 31/70\n",
      "12/12 [==============================] - 0s 7ms/step - loss: 0.3616 - acc: 0.8536 - val_loss: 0.4625 - val_acc: 0.8000\n",
      "Epoch 32/70\n",
      "12/12 [==============================] - 0s 7ms/step - loss: 0.3577 - acc: 0.8619 - val_loss: 0.4608 - val_acc: 0.8000\n",
      "Epoch 33/70\n",
      "12/12 [==============================] - 0s 7ms/step - loss: 0.3556 - acc: 0.8577 - val_loss: 0.4599 - val_acc: 0.8000\n",
      "Epoch 34/70\n",
      "12/12 [==============================] - 0s 7ms/step - loss: 0.3525 - acc: 0.8619 - val_loss: 0.4575 - val_acc: 0.8000\n",
      "Epoch 35/70\n",
      "12/12 [==============================] - 0s 7ms/step - loss: 0.3487 - acc: 0.8577 - val_loss: 0.4542 - val_acc: 0.8000\n",
      "Epoch 36/70\n",
      "12/12 [==============================] - 0s 7ms/step - loss: 0.3464 - acc: 0.8577 - val_loss: 0.4513 - val_acc: 0.8000\n",
      "Epoch 37/70\n",
      "12/12 [==============================] - 0s 8ms/step - loss: 0.3434 - acc: 0.8619 - val_loss: 0.4497 - val_acc: 0.8167\n",
      "Epoch 38/70\n",
      "12/12 [==============================] - 0s 7ms/step - loss: 0.3413 - acc: 0.8619 - val_loss: 0.4495 - val_acc: 0.8167\n",
      "Epoch 39/70\n",
      "12/12 [==============================] - 0s 7ms/step - loss: 0.3382 - acc: 0.8703 - val_loss: 0.4496 - val_acc: 0.8333\n",
      "Epoch 40/70\n",
      "12/12 [==============================] - 0s 7ms/step - loss: 0.3344 - acc: 0.8703 - val_loss: 0.4483 - val_acc: 0.8000\n",
      "Epoch 41/70\n",
      "12/12 [==============================] - 0s 7ms/step - loss: 0.3326 - acc: 0.8745 - val_loss: 0.4482 - val_acc: 0.8000\n",
      "Epoch 42/70\n",
      "12/12 [==============================] - 0s 7ms/step - loss: 0.3301 - acc: 0.8703 - val_loss: 0.4488 - val_acc: 0.8167\n",
      "Epoch 43/70\n",
      "12/12 [==============================] - 0s 7ms/step - loss: 0.3276 - acc: 0.8703 - val_loss: 0.4523 - val_acc: 0.8000\n",
      "Epoch 44/70\n",
      "12/12 [==============================] - 0s 7ms/step - loss: 0.3259 - acc: 0.8703 - val_loss: 0.4488 - val_acc: 0.8167\n",
      "Epoch 45/70\n",
      "12/12 [==============================] - 0s 7ms/step - loss: 0.3237 - acc: 0.8703 - val_loss: 0.4479 - val_acc: 0.8167\n",
      "Epoch 46/70\n",
      "12/12 [==============================] - 0s 7ms/step - loss: 0.3215 - acc: 0.8703 - val_loss: 0.4483 - val_acc: 0.8000\n",
      "Epoch 47/70\n",
      "12/12 [==============================] - 0s 7ms/step - loss: 0.3181 - acc: 0.8828 - val_loss: 0.4486 - val_acc: 0.8000\n",
      "Epoch 48/70\n",
      "12/12 [==============================] - 0s 7ms/step - loss: 0.3148 - acc: 0.8745 - val_loss: 0.4494 - val_acc: 0.8000\n",
      "Epoch 49/70\n",
      "12/12 [==============================] - 0s 7ms/step - loss: 0.3147 - acc: 0.8703 - val_loss: 0.4480 - val_acc: 0.8167\n",
      "Epoch 50/70\n",
      "12/12 [==============================] - 0s 7ms/step - loss: 0.3108 - acc: 0.8745 - val_loss: 0.4478 - val_acc: 0.8000\n",
      "Epoch 51/70\n",
      "12/12 [==============================] - 0s 8ms/step - loss: 0.3085 - acc: 0.8745 - val_loss: 0.4498 - val_acc: 0.8000\n",
      "Epoch 52/70\n",
      "12/12 [==============================] - 0s 6ms/step - loss: 0.3057 - acc: 0.8828 - val_loss: 0.4499 - val_acc: 0.8000\n",
      "Epoch 53/70\n",
      "12/12 [==============================] - 0s 7ms/step - loss: 0.3027 - acc: 0.8787 - val_loss: 0.4488 - val_acc: 0.8000\n",
      "Epoch 54/70\n",
      "12/12 [==============================] - 0s 7ms/step - loss: 0.3002 - acc: 0.8828 - val_loss: 0.4493 - val_acc: 0.8000\n",
      "Epoch 55/70\n",
      "12/12 [==============================] - 0s 6ms/step - loss: 0.3012 - acc: 0.8787 - val_loss: 0.4507 - val_acc: 0.8000\n",
      "Epoch 56/70\n",
      "12/12 [==============================] - 0s 7ms/step - loss: 0.2995 - acc: 0.8828 - val_loss: 0.4476 - val_acc: 0.8000\n",
      "Epoch 57/70\n",
      "12/12 [==============================] - 0s 8ms/step - loss: 0.2933 - acc: 0.8828 - val_loss: 0.4489 - val_acc: 0.8000\n",
      "Epoch 58/70\n",
      "12/12 [==============================] - 0s 9ms/step - loss: 0.2905 - acc: 0.8787 - val_loss: 0.4513 - val_acc: 0.8000\n",
      "Epoch 59/70\n",
      "12/12 [==============================] - 0s 6ms/step - loss: 0.2877 - acc: 0.8828 - val_loss: 0.4498 - val_acc: 0.8000\n",
      "Epoch 60/70\n",
      "12/12 [==============================] - 0s 6ms/step - loss: 0.2860 - acc: 0.8870 - val_loss: 0.4490 - val_acc: 0.8000\n",
      "Epoch 61/70\n",
      "12/12 [==============================] - 0s 6ms/step - loss: 0.2823 - acc: 0.8787 - val_loss: 0.4513 - val_acc: 0.8000\n",
      "Epoch 62/70\n",
      "12/12 [==============================] - 0s 7ms/step - loss: 0.2800 - acc: 0.8828 - val_loss: 0.4507 - val_acc: 0.8000\n",
      "Epoch 63/70\n"
     ]
    },
    {
     "name": "stdout",
     "output_type": "stream",
     "text": [
      "12/12 [==============================] - 0s 6ms/step - loss: 0.2770 - acc: 0.8828 - val_loss: 0.4517 - val_acc: 0.8000\n",
      "Epoch 64/70\n",
      "12/12 [==============================] - 0s 6ms/step - loss: 0.2755 - acc: 0.8828 - val_loss: 0.4533 - val_acc: 0.7833\n",
      "Epoch 65/70\n",
      "12/12 [==============================] - 0s 6ms/step - loss: 0.2722 - acc: 0.8828 - val_loss: 0.4510 - val_acc: 0.7833\n",
      "Epoch 66/70\n",
      "12/12 [==============================] - 0s 6ms/step - loss: 0.2698 - acc: 0.8870 - val_loss: 0.4532 - val_acc: 0.8000\n",
      "Epoch 67/70\n",
      "12/12 [==============================] - 0s 6ms/step - loss: 0.2664 - acc: 0.8870 - val_loss: 0.4548 - val_acc: 0.7833\n",
      "Epoch 68/70\n",
      "12/12 [==============================] - 0s 6ms/step - loss: 0.2653 - acc: 0.8912 - val_loss: 0.4554 - val_acc: 0.7833\n",
      "Epoch 69/70\n",
      "12/12 [==============================] - 0s 6ms/step - loss: 0.2611 - acc: 0.8870 - val_loss: 0.4554 - val_acc: 0.7833\n",
      "Epoch 70/70\n",
      "12/12 [==============================] - 0s 6ms/step - loss: 0.2604 - acc: 0.8912 - val_loss: 0.4540 - val_acc: 0.8000\n"
     ]
    }
   ],
   "source": [
    "hist=model.fit(x_train,y_train,validation_data=(x_test,y_test),batch_size=20,epochs=70)"
   ]
  },
  {
   "cell_type": "code",
   "execution_count": 30,
   "id": "b2271042",
   "metadata": {},
   "outputs": [],
   "source": [
    "# Accuracy is 92,val accuracy is 73.3\n",
    "# check for prediction"
   ]
  },
  {
   "cell_type": "code",
   "execution_count": 31,
   "id": "30d69b08",
   "metadata": {},
   "outputs": [
    {
     "name": "stdout",
     "output_type": "stream",
     "text": [
      "2/2 [==============================] - 0s 8ms/step - loss: 0.4540 - acc: 0.8000\n"
     ]
    }
   ],
   "source": [
    "loss=acc=model.evaluate(x_test,y_test)"
   ]
  },
  {
   "cell_type": "code",
   "execution_count": 33,
   "id": "02384720",
   "metadata": {},
   "outputs": [],
   "source": [
    "# plt.plot(hist['loss'])\n",
    "# plt.plot(hist['val_loss'])\n",
    "# plt.legend(['Train','Test'])"
   ]
  },
  {
   "cell_type": "code",
   "execution_count": null,
   "id": "dcf5eea9",
   "metadata": {},
   "outputs": [],
   "source": [
    "a=model.predict(x)"
   ]
  },
  {
   "cell_type": "code",
   "execution_count": null,
   "id": "f6aa0a57",
   "metadata": {},
   "outputs": [],
   "source": [
    "print(np.argmax(a[297]))"
   ]
  }
 ],
 "metadata": {
  "kernelspec": {
   "display_name": "Python 3 (ipykernel)",
   "language": "python",
   "name": "python3"
  },
  "language_info": {
   "codemirror_mode": {
    "name": "ipython",
    "version": 3
   },
   "file_extension": ".py",
   "mimetype": "text/x-python",
   "name": "python",
   "nbconvert_exporter": "python",
   "pygments_lexer": "ipython3",
   "version": "3.9.13"
  }
 },
 "nbformat": 4,
 "nbformat_minor": 5
}
